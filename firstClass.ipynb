{
 "cells": [
  {
   "cell_type": "code",
   "execution_count": 1,
   "id": "344e35f3",
   "metadata": {},
   "outputs": [
    {
     "data": {
      "text/plain": [
       "9"
      ]
     },
     "execution_count": 1,
     "metadata": {},
     "output_type": "execute_result"
    }
   ],
   "source": [
    "4+5\n"
   ]
  },
  {
   "cell_type": "code",
   "execution_count": 2,
   "id": "9f2a09e2",
   "metadata": {},
   "outputs": [
    {
     "name": "stdout",
     "output_type": "stream",
     "text": [
      "Hello, World!\n"
     ]
    }
   ],
   "source": [
    "print(\"Hello, World!\")"
   ]
  },
  {
   "cell_type": "code",
   "execution_count": 3,
   "id": "821e7abc",
   "metadata": {},
   "outputs": [
    {
     "data": {
      "text/plain": [
       "'hello World '"
      ]
     },
     "execution_count": 3,
     "metadata": {},
     "output_type": "execute_result"
    }
   ],
   "source": [
    "(\"hello World \")"
   ]
  },
  {
   "cell_type": "code",
   "execution_count": 4,
   "id": "612811fa",
   "metadata": {},
   "outputs": [
    {
     "data": {
      "text/plain": [
       "7.0"
      ]
     },
     "execution_count": 4,
     "metadata": {},
     "output_type": "execute_result"
    }
   ],
   "source": [
    "5+2.0 "
   ]
  },
  {
   "cell_type": "code",
   "execution_count": 5,
   "id": "52881c6e",
   "metadata": {},
   "outputs": [
    {
     "data": {
      "text/plain": [
       "str"
      ]
     },
     "execution_count": 5,
     "metadata": {},
     "output_type": "execute_result"
    }
   ],
   "source": [
    "type('''text''')"
   ]
  },
  {
   "cell_type": "code",
   "execution_count": 9,
   "id": "89195ef4",
   "metadata": {},
   "outputs": [
    {
     "data": {
      "text/plain": [
       "'daksh'"
      ]
     },
     "execution_count": 9,
     "metadata": {},
     "output_type": "execute_result"
    }
   ],
   "source": [
    "'daksh'"
   ]
  },
  {
   "cell_type": "markdown",
   "id": "4bd2e251",
   "metadata": {},
   "source": [
    "# To convert a cell to Markdown in Jupyter Notebook, use the shortcut:\n",
    "* Press 'Esc' to enter command mode, then press 'M'.\n",
    "* Now the cell is in Markdown mode."
   ]
  },
  {
   "cell_type": "markdown",
   "id": "e1a5f502",
   "metadata": {},
   "source": [
    "# To convert a cell to a code cell in Jupyter Notebook, use the shortcut:\n",
    "* Press 'Esc' to enter command mode, then press 'Y'.\n",
    "* Now the cell is in code mode."
   ]
  },
  {
   "cell_type": "code",
   "execution_count": 10,
   "id": "89597148",
   "metadata": {},
   "outputs": [
    {
     "name": "stdout",
     "output_type": "stream",
     "text": [
      "-4\n",
      "-4\n",
      "4\n",
      "4\n",
      "-5\n",
      "-4\n",
      "5\n",
      "4\n"
     ]
    }
   ],
   "source": [
    "print(int(-4.8))\n",
    "print(int(-4.3))\n",
    "print(int(4.8))\n",
    "print(int(4.3))\n",
    "print(round(-4.8))\n",
    "print(round(-4.3))\n",
    "print(round(4.8))\n",
    "print(round(4.3))"
   ]
  },
  {
   "cell_type": "code",
   "execution_count": 18,
   "id": "a83f8373",
   "metadata": {},
   "outputs": [
    {
     "name": "stdout",
     "output_type": "stream",
     "text": [
      "3.0\n"
     ]
    }
   ],
   "source": [
    "print(float(int(3.6)))"
   ]
  },
  {
   "cell_type": "code",
   "execution_count": 25,
   "id": "6d64896f",
   "metadata": {},
   "outputs": [
    {
     "name": "stdout",
     "output_type": "stream",
     "text": [
      "False\n",
      "True\n",
      "True\n",
      "False\n"
     ]
    }
   ],
   "source": [
    "print('6.7' == 6.7)\n",
    "print('6.7' == '6.7')\n",
    "print('daksh' == 'daksh')\n",
    "print('daksh' == ' daksh')"
   ]
  },
  {
   "cell_type": "code",
   "execution_count": null,
   "id": "48642dd2",
   "metadata": {},
   "outputs": [],
   "source": []
  }
 ],
 "metadata": {
  "kernelspec": {
   "display_name": "base",
   "language": "python",
   "name": "python3"
  },
  "language_info": {
   "codemirror_mode": {
    "name": "ipython",
    "version": 3
   },
   "file_extension": ".py",
   "mimetype": "text/x-python",
   "name": "python",
   "nbconvert_exporter": "python",
   "pygments_lexer": "ipython3",
   "version": "3.12.7"
  }
 },
 "nbformat": 4,
 "nbformat_minor": 5
}
