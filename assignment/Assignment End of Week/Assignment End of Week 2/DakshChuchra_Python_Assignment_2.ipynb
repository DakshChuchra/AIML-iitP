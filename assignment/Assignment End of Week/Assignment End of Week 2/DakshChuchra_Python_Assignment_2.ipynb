{
 "cells": [
  {
   "cell_type": "markdown",
   "id": "2b58c09e",
   "metadata": {
    "jp-MarkdownHeadingCollapsed": true
   },
   "source": [
    "# Python Basics"
   ]
  },
  {
   "cell_type": "markdown",
   "id": "6e5740ba",
   "metadata": {},
   "source": [
    "**1. Store your name and print welcome message**"
   ]
  },
  {
   "cell_type": "code",
   "execution_count": 1,
   "id": "b30d3db5",
   "metadata": {},
   "outputs": [
    {
     "name": "stdout",
     "output_type": "stream",
     "text": [
      "Welcome, John!\n"
     ]
    }
   ],
   "source": [
    "name = \"John\"\n",
    "print(f\"Welcome, {name}!\")"
   ]
  },
  {
   "cell_type": "markdown",
   "id": "237f4a61",
   "metadata": {},
   "source": [
    "**2. Sum, difference, product**"
   ]
  },
  {
   "cell_type": "code",
   "execution_count": 2,
   "id": "36778a2e",
   "metadata": {},
   "outputs": [
    {
     "name": "stdout",
     "output_type": "stream",
     "text": [
      "Sum: 15\n",
      "Difference: 5\n",
      "Product: 50\n"
     ]
    }
   ],
   "source": [
    "a, b = 10, 5\n",
    "print(\"Sum:\", a + b)\n",
    "print(\"Difference:\", a - b)\n",
    "print(\"Product:\", a * b)"
   ]
  },
  {
   "cell_type": "markdown",
   "id": "8b155515",
   "metadata": {},
   "source": [
    "**3. Take input for age**"
   ]
  },
  {
   "cell_type": "code",
   "execution_count": null,
   "id": "06649c7c",
   "metadata": {},
   "outputs": [
    {
     "ename": "ValueError",
     "evalue": "invalid literal for int() with base 10: ''",
     "output_type": "error",
     "traceback": [
      "\u001b[31m---------------------------------------------------------------------------\u001b[39m",
      "\u001b[31mValueError\u001b[39m                                Traceback (most recent call last)",
      "\u001b[36mCell\u001b[39m\u001b[36m \u001b[39m\u001b[32mIn[1]\u001b[39m\u001b[32m, line 1\u001b[39m\n\u001b[32m----> \u001b[39m\u001b[32m1\u001b[39m age = \u001b[38;5;28;43mint\u001b[39;49m\u001b[43m(\u001b[49m\u001b[38;5;28;43minput\u001b[39;49m\u001b[43m(\u001b[49m\u001b[33;43m\"\u001b[39;49m\u001b[33;43mEnter your age: \u001b[39;49m\u001b[33;43m\"\u001b[39;49m\u001b[43m)\u001b[49m\u001b[43m)\u001b[49m\n\u001b[32m      2\u001b[39m \u001b[38;5;28mprint\u001b[39m(\u001b[33mf\u001b[39m\u001b[33m\"\u001b[39m\u001b[33mYou are \u001b[39m\u001b[38;5;132;01m{\u001b[39;00mage\u001b[38;5;132;01m}\u001b[39;00m\u001b[33m years old\u001b[39m\u001b[33m\"\u001b[39m)\n",
      "\u001b[31mValueError\u001b[39m: invalid literal for int() with base 10: ''"
     ]
    }
   ],
   "source": [
    "age = int(input(\"Enter your age: \"))\n",
    "print(f\"You are {age} years old\")"
   ]
  },
  {
   "cell_type": "markdown",
   "id": "7d745c70",
   "metadata": {},
   "source": [
    "**4. Assign three values in one line**"
   ]
  },
  {
   "cell_type": "code",
   "execution_count": null,
   "id": "aeca1790",
   "metadata": {},
   "outputs": [],
   "source": [
    "x, y, z = 1, 2, 3\n",
    "print(x, y, z)"
   ]
  },
  {
   "cell_type": "markdown",
   "id": "233b5e55",
   "metadata": {},
   "source": [
    "**5. Check if two numbers are equal**"
   ]
  },
  {
   "cell_type": "code",
   "execution_count": null,
   "id": "524f6d0a",
   "metadata": {},
   "outputs": [],
   "source": [
    "n1 = int(input(\"Enter first number: \"))\n",
    "n2 = int(input(\"Enter second number: \"))\n",
    "print(\"Equal\" if n1 == n2 else \"Not Equal\")"
   ]
  },
  {
   "cell_type": "markdown",
   "id": "fb97aa14",
   "metadata": {},
   "source": [
    "**6. not operator**"
   ]
  },
  {
   "cell_type": "code",
   "execution_count": null,
   "id": "34839dff",
   "metadata": {},
   "outputs": [],
   "source": [
    "status = True\n",
    "print(\"Reversed:\", not status)"
   ]
  },
  {
   "cell_type": "markdown",
   "id": "2bce1939",
   "metadata": {},
   "source": [
    "**7. Floor division and modulus**"
   ]
  },
  {
   "cell_type": "code",
   "execution_count": null,
   "id": "ef43cf53",
   "metadata": {},
   "outputs": [],
   "source": [
    "print(\"Floor Division:\", 17 // 4)\n",
    "print(\"Modulus:\", 17 % 4)"
   ]
  },
  {
   "cell_type": "markdown",
   "id": "1fe33bd3",
   "metadata": {},
   "source": [
    "**8. Name and city**"
   ]
  },
  {
   "cell_type": "code",
   "execution_count": null,
   "id": "243022e0",
   "metadata": {},
   "outputs": [],
   "source": [
    "name = input(\"Enter name: \")\n",
    "city = input(\"Enter city: \")\n",
    "print(f\"{name} lives in {city}\")"
   ]
  },
  {
   "cell_type": "markdown",
   "id": "018e8db1",
   "metadata": {},
   "source": [
    "**9. Check if 'e' exists**"
   ]
  },
  {
   "cell_type": "code",
   "execution_count": null,
   "id": "12fec083",
   "metadata": {},
   "outputs": [],
   "source": [
    "print('e' in 'elephant')"
   ]
  },
  {
   "cell_type": "markdown",
   "id": "60175989",
   "metadata": {},
   "source": [
    "**10. is operator**"
   ]
  },
  {
   "cell_type": "code",
   "execution_count": null,
   "id": "6215be45",
   "metadata": {},
   "outputs": [],
   "source": [
    "a1 = 100\n",
    "a2 = 100\n",
    "print(a1 is a2)"
   ]
  },
  {
   "cell_type": "markdown",
   "id": "dab4b2f4",
   "metadata": {},
   "source": [
    "**11. += operator**"
   ]
  },
  {
   "cell_type": "code",
   "execution_count": null,
   "id": "06f1f5f2",
   "metadata": {},
   "outputs": [],
   "source": [
    "num = 5\n",
    "num += 10\n",
    "print(num)"
   ]
  },
  {
   "cell_type": "markdown",
   "id": "dfeaa924",
   "metadata": {},
   "source": [
    "**12. Display results of (6 > 3) and (4 == 4)**"
   ]
  },
  {
   "cell_type": "code",
   "execution_count": null,
   "id": "03e195bd",
   "metadata": {},
   "outputs": [],
   "source": [
    "print((6 > 3) and (4 == 4))"
   ]
  },
  {
   "cell_type": "markdown",
   "id": "6c6570f8",
   "metadata": {},
   "source": [
    "**13. sep usage**"
   ]
  },
  {
   "cell_type": "code",
   "execution_count": null,
   "id": "8a8fc8bf",
   "metadata": {},
   "outputs": [],
   "source": [
    "words = input(\"Enter two words: \").split()\n",
    "print(*words, sep=\"a\")"
   ]
  },
  {
   "cell_type": "markdown",
   "id": "3c853158",
   "metadata": {},
   "source": [
    "**14. Greeting with name & age**"
   ]
  },
  {
   "cell_type": "code",
   "execution_count": null,
   "id": "89faee0f",
   "metadata": {},
   "outputs": [],
   "source": [
    "name = input(\"Enter name: \")\n",
    "age = int(input(\"Enter age: \"))\n",
    "print(f\"Hi {name}, you are {age} years old!\")"
   ]
  },
  {
   "cell_type": "markdown",
   "id": "25c78262",
   "metadata": {},
   "source": [
    "**15. end=' ' usage**"
   ]
  },
  {
   "cell_type": "code",
   "execution_count": null,
   "id": "1e7d754f",
   "metadata": {},
   "outputs": [],
   "source": [
    "for i in range(1, 6):\n",
    "    print(i, end=\" \")\n",
    "print()"
   ]
  },
  {
   "cell_type": "markdown",
   "id": "d1f9a370",
   "metadata": {},
   "source": [
    "**16. 5 ** 4**"
   ]
  },
  {
   "cell_type": "code",
   "execution_count": null,
   "id": "23447493",
   "metadata": {},
   "outputs": [],
   "source": [
    "print(5 ** 4)"
   ]
  },
  {
   "cell_type": "markdown",
   "id": "6bb49459",
   "metadata": {},
   "source": [
    "**17. sep='__' output**"
   ]
  },
  {
   "cell_type": "code",
   "execution_count": null,
   "id": "a8975cda",
   "metadata": {},
   "outputs": [],
   "source": [
    "print(\"Hi\", \"there\", sep=\"__\")  # Output: Hi__there"
   ]
  },
  {
   "cell_type": "markdown",
   "id": "ad9576e6",
   "metadata": {},
   "source": [
    "**18. Fixing input + int**"
   ]
  },
  {
   "cell_type": "code",
   "execution_count": null,
   "id": "9633f420",
   "metadata": {},
   "outputs": [],
   "source": [
    "age = int(input(\"Enter age: \"))\n",
    "print(age + 5)"
   ]
  },
  {
   "cell_type": "markdown",
   "id": "a1c42ccd",
   "metadata": {
    "jp-MarkdownHeadingCollapsed": true
   },
   "source": [
    "# Git Basics"
   ]
  },
  {
   "cell_type": "markdown",
   "id": "122cb051",
   "metadata": {},
   "source": [
    "**Git Commands:**"
   ]
  },
  {
   "cell_type": "markdown",
   "id": "819ba063",
   "metadata": {},
   "source": [
    "- Initialize repo → `git init`\n",
    "- Check status → `git status`\n",
    "- Configure email globally → `git config --global user.email \"you@example.com\"`\n",
    "- Stage all → `git add .`\n",
    "- Commit → `git commit -m \"First commit\"`\n",
    "- Clone → `git clone <url>`\n",
    "- Create & switch branch → `git checkout -b feature-homepage`\n",
    "- Pull → `git pull`\n",
    "- Undo before staging → `git checkout -- <file>`\n",
    "- `.gitignore` → Files to ignore"
   ]
  },
  {
   "cell_type": "markdown",
   "id": "989cf4ef",
   "metadata": {
    "jp-MarkdownHeadingCollapsed": true
   },
   "source": [
    "# Python Medium"
   ]
  },
  {
   "cell_type": "markdown",
   "id": "a8d9aa4e",
   "metadata": {},
   "source": [
    "**1. Compare two numbers**"
   ]
  },
  {
   "cell_type": "code",
   "execution_count": null,
   "id": "cfbcd6f7",
   "metadata": {},
   "outputs": [],
   "source": [
    "a = int(input(\"Enter first: \"))\n",
    "b = int(input(\"Enter second: \"))\n",
    "if a > b:\n",
    "    print(\"First is greater\")\n",
    "elif b > a:\n",
    "    print(\"Second is greater\")\n",
    "else:\n",
    "    print(\"Both are equal\")"
   ]
  },
  {
   "cell_type": "markdown",
   "id": "5ad29f96",
   "metadata": {},
   "source": [
    "**2. Arithmetic operators**"
   ]
  },
  {
   "cell_type": "code",
   "execution_count": null,
   "id": "afddd73e",
   "metadata": {},
   "outputs": [],
   "source": [
    "x, y = 15, 4\n",
    "print(f\"Sum: {x + y}, Diff: {x - y}, Mul: {x * y}, Div: {x / y}, Floor: {x // y}, Mod: {x % y}, Pow: {x ** y}\")"
   ]
  },
  {
   "cell_type": "markdown",
   "id": "147dd8c7",
   "metadata": {},
   "source": [
    "**3. Grades**"
   ]
  },
  {
   "cell_type": "code",
   "execution_count": null,
   "id": "7373478d",
   "metadata": {},
   "outputs": [],
   "source": [
    "marks = int(input(\"Enter marks: \"))\n",
    "if marks > 90:\n",
    "    print(\"Excellent\")\n",
    "elif marks > 70:\n",
    "    print(\"Good\")\n",
    "else:\n",
    "    print(\"Needs Improvement\")"
   ]
  },
  {
   "cell_type": "markdown",
   "id": "5312c6ad",
   "metadata": {},
   "source": [
    "**4. Logical operator range check**"
   ]
  },
  {
   "cell_type": "code",
   "execution_count": null,
   "id": "202dd6e2",
   "metadata": {},
   "outputs": [],
   "source": [
    "num = int(input(\"Enter number: \"))\n",
    "print(50 <= num <= 100)"
   ]
  },
  {
   "cell_type": "markdown",
   "id": "f63771e0",
   "metadata": {},
   "source": [
    "**5. Sum even/odd**"
   ]
  },
  {
   "cell_type": "code",
   "execution_count": null,
   "id": "c79a7f7d",
   "metadata": {},
   "outputs": [],
   "source": [
    "num1 = int(input(\"Enter num1: \"))\n",
    "num2 = int(input(\"Enter num2: \"))\n",
    "total = num1 + num2\n",
    "print(\"Even\" if total % 2 == 0 else \"Odd\")"
   ]
  },
  {
   "cell_type": "markdown",
   "id": "6e3d88f6",
   "metadata": {},
   "source": [
    "**6. Divisible by 5 & 3**"
   ]
  },
  {
   "cell_type": "code",
   "execution_count": null,
   "id": "e0852a90",
   "metadata": {},
   "outputs": [],
   "source": [
    "n = int(input(\"Enter number: \"))\n",
    "if n % 5 == 0 and n % 3 == 0:\n",
    "    print(\"Divisible by both 5 and 3\")\n",
    "else:\n",
    "    print(\"Not divisible by both\")"
   ]
  },
  {
   "cell_type": "markdown",
   "id": "b00924a9",
   "metadata": {},
   "source": [
    "**7. Bitwise operations**"
   ]
  },
  {
   "cell_type": "code",
   "execution_count": null,
   "id": "dbc735f6",
   "metadata": {},
   "outputs": [],
   "source": [
    "print(6 & 3)  # AND\n",
    "print(6 | 3)  # OR"
   ]
  },
  {
   "cell_type": "markdown",
   "id": "f1a1427e",
   "metadata": {
    "jp-MarkdownHeadingCollapsed": true
   },
   "source": [
    "# Git Scenario Based"
   ]
  },
  {
   "cell_type": "markdown",
   "id": "eb7aea19",
   "metadata": {},
   "source": [
    "**Merge conflict steps:**"
   ]
  },
  {
   "cell_type": "markdown",
   "id": "8330256a",
   "metadata": {},
   "source": [
    "- Open conflicting file\n",
    "- Remove conflict markers\n",
    "- Keep correct changes\n",
    "- Save, stage, commit"
   ]
  },
  {
   "cell_type": "markdown",
   "id": "aa39c72e",
   "metadata": {},
   "source": [
    "**Feature contribution steps:**"
   ]
  },
  {
   "cell_type": "markdown",
   "id": "20dcd901",
   "metadata": {},
   "source": [
    "1. Fork repo\n",
    "2. Clone to local\n",
    "3. Create branch\n",
    "4. Commit changes\n",
    "5. Push branch\n",
    "6. Create pull request"
   ]
  },
  {
   "cell_type": "markdown",
   "id": "d9d0618d",
   "metadata": {},
   "source": [
    "**git reset --soft HEAD~1** → Undo commit but keep changes"
   ]
  },
  {
   "cell_type": "markdown",
   "id": "642638c7",
   "metadata": {},
   "source": [
    "**git checkout -- <file>** → Discard changes to file"
   ]
  },
  {
   "cell_type": "markdown",
   "id": "b56d2030",
   "metadata": {},
   "source": [
    "**Code reviews:**\n",
    "1. Find bugs early\n",
    "2. Improve code readability"
   ]
  },
  {
   "cell_type": "markdown",
   "id": "652c434d",
   "metadata": {},
   "source": [
    "**Merge into main:**\n",
    "`git checkout main`\n",
    "`git merge <branch>`"
   ]
  },
  {
   "cell_type": "markdown",
   "id": "281f50b2",
   "metadata": {},
   "source": [
    "# Python + Git Medium"
   ]
  },
  {
   "cell_type": "markdown",
   "id": "06b90533",
   "metadata": {},
   "source": [
    "**Voting eligibility**"
   ]
  },
  {
   "cell_type": "code",
   "execution_count": null,
   "id": "d2c2c673",
   "metadata": {},
   "outputs": [],
   "source": [
    "name = input(\"Enter name: \")\n",
    "age = int(input(\"Enter age: \"))\n",
    "city = input(\"Enter city: \")\n",
    "if age > 18:\n",
    "    print(f\"Hello {name}, you are eligible to vote in {city}.\")\n",
    "else:\n",
    "    print(f\"Sorry {name}, you are too young.\")"
   ]
  },
  {
   "cell_type": "markdown",
   "id": "392e3355",
   "metadata": {},
   "source": [
    "**Git workflow:**"
   ]
  },
  {
   "cell_type": "markdown",
   "id": "6594bcfd",
   "metadata": {},
   "source": [
    "- git clone <url>\n",
    "- git checkout -b new-branch\n",
    "- [make changes]\n",
    "- git commit -am \"message\"\n",
    "- git push origin new-branch"
   ]
  },
  {
   "cell_type": "markdown",
   "id": "96ba6931",
   "metadata": {},
   "source": [
    "**Operators in real-world**"
   ]
  },
  {
   "cell_type": "code",
   "execution_count": null,
   "id": "edb85525",
   "metadata": {},
   "outputs": [],
   "source": [
    "age = 25\n",
    "has_id = True\n",
    "clearance_level = 3\n",
    "if age > 18 and has_id and (clearance_level & 1):\n",
    "    print(\"Access granted\")\n",
    "else:\n",
    "    print(\"Access denied\")"
   ]
  },
  {
   "cell_type": "markdown",
   "id": "75793e4c",
   "metadata": {},
   "source": [
    "**Undo commit but keep changes:**"
   ]
  },
  {
   "cell_type": "markdown",
   "id": "2beae3a1",
   "metadata": {},
   "source": [
    "- git reset --soft HEAD~1\n",
    "- git rm --cached <file>\n",
    "- git commit -m \"Recommit without sensitive file\""
   ]
  }
 ],
 "metadata": {
  "kernelspec": {
   "display_name": "assignment",
   "language": "python",
   "name": "python3"
  },
  "language_info": {
   "codemirror_mode": {
    "name": "ipython",
    "version": 3
   },
   "file_extension": ".py",
   "mimetype": "text/x-python",
   "name": "python",
   "nbconvert_exporter": "python",
   "pygments_lexer": "ipython3",
   "version": "3.12.7"
  }
 },
 "nbformat": 4,
 "nbformat_minor": 5
}
